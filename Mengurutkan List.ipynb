{
 "cells": [
  {
   "cell_type": "code",
   "execution_count": 1,
   "metadata": {},
   "outputs": [
    {
     "name": "stdout",
     "output_type": "stream",
     "text": [
      "Mengecek List Awal\n",
      "Menambahkan Data List dengan Insert\n",
      "[1, 5, 7, 2, 5, 14, 98, 32, 12, 56, 76]\n",
      "Mengurutkan List\n",
      "[1, 2, 5, 5, 7, 12, 14, 32, 56, 76, 98]\n"
     ]
    }
   ],
   "source": [
    "list = [1,5,7,2,14,98,32,12,56,76]\n",
    "print(\"Mengecek List Awal\")\n",
    "\n",
    "print(\"Menambahkan Data List dengan Insert\")\n",
    "list.insert(4, 5)\n",
    "\n",
    "print(list)\n",
    "\n",
    "print(\"Mengurutkan List\")\n",
    "list.sort()\n",
    "\n",
    "print(list)"
   ]
  },
  {
   "cell_type": "code",
   "execution_count": null,
   "metadata": {},
   "outputs": [],
   "source": []
  }
 ],
 "metadata": {
  "kernelspec": {
   "display_name": "Python 3",
   "language": "python",
   "name": "python3"
  },
  "language_info": {
   "codemirror_mode": {
    "name": "ipython",
    "version": 3
   },
   "file_extension": ".py",
   "mimetype": "text/x-python",
   "name": "python",
   "nbconvert_exporter": "python",
   "pygments_lexer": "ipython3",
   "version": "3.7.1"
  }
 },
 "nbformat": 4,
 "nbformat_minor": 2
}
