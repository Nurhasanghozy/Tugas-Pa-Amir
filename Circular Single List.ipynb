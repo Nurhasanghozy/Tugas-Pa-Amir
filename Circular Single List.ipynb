{
 "cells": [
  {
   "cell_type": "code",
   "execution_count": 1,
   "metadata": {},
   "outputs": [],
   "source": [
    "import datetime"
   ]
  },
  {
   "cell_type": "code",
   "execution_count": 2,
   "metadata": {},
   "outputs": [],
   "source": [
    "class Node:\n",
    "    def __init__(self,value=None):\n",
    "        self.value = value\n",
    "        self.next = None"
   ]
  },
  {
   "cell_type": "code",
   "execution_count": 3,
   "metadata": {},
   "outputs": [],
   "source": [
    "class LinkedList:\n",
    "    def __init__(self):\n",
    "        self.value = None\n",
    "    \n",
    "    def printList(self):\n",
    "        printvalue = self.value\n",
    "        while printvalue is not None:\n",
    "            print(printvalue.value)\n",
    "            printvalue = printvalue.next\n",
    "            \n",
    "    def insertFirst(self, data):\n",
    "        newNode = Node(data)\n",
    "        newNode.next = self.value\n",
    "        self.value = newNode\n",
    "        \n",
    "    def insertLast(self, data):\n",
    "        newNode = Node(data)\n",
    "        if self.value is None:\n",
    "            self.value = newNode\n",
    "            return\n",
    "        temp = self.value\n",
    "        while(temp.next):\n",
    "            temp = temp.next\n",
    "        temp.next = newNode\n",
    "        \n",
    "    def insertInBetween(self, mid, data):\n",
    "        if mid is None:\n",
    "            print(\"No Node Available\")\n",
    "            return\n",
    "        newNode = Node(data)\n",
    "        newNode.next = mid.next\n",
    "        mid.next = newNode\n",
    "        \n",
    "    def delete(self, nodevalue):\n",
    "        removevalue = self.value\n",
    "        if removevalue is not None:\n",
    "            if removevalue.value is nodevalue:\n",
    "                self.value = removevalue.next\n",
    "                removevalue = None\n",
    "                return\n",
    "            while removevalue is not None:\n",
    "                if removevalue.value == nodevalue:\n",
    "                    break \n",
    "                prev = removevalue\n",
    "                removevalue = removevalue.next\n",
    "                \n",
    "                if removevalue is None:\n",
    "                    return\n",
    "                \n",
    "                prev.next = removevalue.next\n",
    "                removevalue = None"
   ]
  },
  {
   "cell_type": "code",
   "execution_count": 4,
   "metadata": {},
   "outputs": [],
   "source": [
    "List1 = LinkedList()\n",
    "\n",
    "List1.value = Node(datetime.datetime(2019, 6, 12))\n",
    "data2 = Node(datetime.datetime(2019, 7, 12))\n",
    "data3 = Node(datetime.datetime(2019, 8, 12))\n",
    "data4 = Node(datetime.datetime(2019, 9, 12))\n",
    "data5 = Node(datetime.datetime(2020, 7, 16))"
   ]
  },
  {
   "cell_type": "code",
   "execution_count": 5,
   "metadata": {},
   "outputs": [],
   "source": [
    "List1.value.next = data2\n",
    "data2.next = data3\n",
    "data3.next = data4\n",
    "data4.next = data5"
   ]
  },
  {
   "cell_type": "code",
   "execution_count": 6,
   "metadata": {},
   "outputs": [
    {
     "name": "stdout",
     "output_type": "stream",
     "text": [
      "2019-07-12 00:00:00\n",
      "2019-08-12 00:00:00\n"
     ]
    }
   ],
   "source": [
    "print(data2.value)\n",
    "print(data2.next.value)"
   ]
  },
  {
   "cell_type": "code",
   "execution_count": 7,
   "metadata": {
    "scrolled": true
   },
   "outputs": [],
   "source": [
    "List1.insertFirst(datetime.datetime(2019, 1, 16))\n",
    "List1.insertLast(datetime.datetime(2019, 12, 16))\n",
    "List1.insertInBetween(data3, datetime.datetime(2020, 12, 16))\n",
    "List1.insertInBetween(data2, datetime.datetime(2022, 12, 16))"
   ]
  },
  {
   "cell_type": "code",
   "execution_count": 8,
   "metadata": {},
   "outputs": [
    {
     "name": "stdout",
     "output_type": "stream",
     "text": [
      "2019-01-16 00:00:00\n",
      "2019-06-12 00:00:00\n",
      "2019-07-12 00:00:00\n",
      "2022-12-16 00:00:00\n",
      "2019-08-12 00:00:00\n",
      "2020-12-16 00:00:00\n",
      "2019-09-12 00:00:00\n",
      "2020-07-16 00:00:00\n",
      "2019-12-16 00:00:00\n"
     ]
    }
   ],
   "source": [
    "List1.printList()"
   ]
  },
  {
   "cell_type": "code",
   "execution_count": 9,
   "metadata": {},
   "outputs": [],
   "source": [
    "List1.delete(datetime.datetime(2022, 12, 16))"
   ]
  },
  {
   "cell_type": "code",
   "execution_count": 10,
   "metadata": {},
   "outputs": [
    {
     "name": "stdout",
     "output_type": "stream",
     "text": [
      "2019-01-16 00:00:00\n",
      "2019-07-12 00:00:00\n",
      "2022-12-16 00:00:00\n",
      "2019-08-12 00:00:00\n",
      "2020-12-16 00:00:00\n",
      "2019-09-12 00:00:00\n",
      "2020-07-16 00:00:00\n",
      "2019-12-16 00:00:00\n"
     ]
    }
   ],
   "source": [
    "List1.printList()"
   ]
  }
 ],
 "metadata": {
  "kernelspec": {
   "display_name": "Python 3",
   "language": "python",
   "name": "python3"
  },
  "language_info": {
   "codemirror_mode": {
    "name": "ipython",
    "version": 3
   },
   "file_extension": ".py",
   "mimetype": "text/x-python",
   "name": "python",
   "nbconvert_exporter": "python",
   "pygments_lexer": "ipython3",
   "version": "3.7.1"
  }
 },
 "nbformat": 4,
 "nbformat_minor": 2
}
