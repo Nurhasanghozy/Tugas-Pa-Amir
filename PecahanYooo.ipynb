{
 "cells": [
  {
   "cell_type": "code",
   "execution_count": 4,
   "metadata": {},
   "outputs": [
    {
     "name": "stdout",
     "output_type": "stream",
     "text": [
      "Pecahan(-1,24,18)\n"
     ]
    }
   ],
   "source": [
    "class Pecahan:\n",
    "    def __init__ (self, bulat = 0, pemb = 0, peny = 1):\n",
    "        self.bulat = bulat\n",
    "        self.pemb = pemb\n",
    "        self.peny = peny\n",
    "        \n",
    "    def __add__(self, other):\n",
    "        bulat_baru = self.bulat + other.bulat\n",
    "        if(self.peny == other.peny):\n",
    "            pemb_baru == self.pemb + other.pemb\n",
    "            \n",
    "            if pemb_baru % self.peny ==0:\n",
    "                bulat_baru += pemb_baru//self.peny\n",
    "                return Pecahan(bulat_baru, 0, self.peny)\n",
    "            \n",
    "            return Pecahan(bula_baru, pemb_baru, self.peny)\n",
    "        \n",
    "        else :\n",
    "            pemb_baru = self.pemb * other.peny + self.peny *other.pemb\n",
    "            peny_baru = self.peny * other.peny\n",
    "            \n",
    "            if(pemb_baru % peny_baru == 0):\n",
    "                bulat_baru += pemb_baru//peny_baru\n",
    "                return Pecahan(bulat_baru, 0, peny_baru)\n",
    "            return Pecahan(bulat_baru, pemb_baru, peny_baru)\n",
    "        \n",
    "    def __sub__ (self, other):\n",
    "        bulat_baru = self.bulat - other.bulat\n",
    "        if self.peny == other.peny :\n",
    "            pemb_baru = self.pemb - other.pemb\n",
    "            \n",
    "            if pemb_baru % self.peny == 0:\n",
    "                bulat_baru -= pemb_baru//self.peny\n",
    "                return Pecahan(bulat_baru, 0, self.peny)\n",
    "            return Pecahan(bulat_baru, pemb_baru, self.peny)\n",
    "        \n",
    "        else:\n",
    "            pemb_baru = self.pemb * other.peny - self.peny * other.pemb\n",
    "            peny_baru = self.peny * other.peny\n",
    "            \n",
    "            if pemb_baru % peny_baru == 0 :\n",
    "                bulat_baru -= pemb_baru//peny_baru\n",
    "                return Pecahan(bulat_baru, 0, peny_baru)\n",
    "            return Pecahan(bulat_baru, pemb_baru, peny_baru)\n",
    "        \n",
    "    def __repr__(self):\n",
    "        return \"Pecahan({},{},{})\".format(self.bulat, self.pemb, self.peny)\n",
    "        \n",
    "a = Pecahan (3, 5, 3)\n",
    "b = Pecahan (4, 2, 6)\n",
    "\n",
    "c = a- b\n",
    "\n",
    "print(c)"
   ]
  },
  {
   "cell_type": "code",
   "execution_count": null,
   "metadata": {},
   "outputs": [],
   "source": []
  }
 ],
 "metadata": {
  "kernelspec": {
   "display_name": "Python 3",
   "language": "python",
   "name": "python3"
  },
  "language_info": {
   "codemirror_mode": {
    "name": "ipython",
    "version": 3
   },
   "file_extension": ".py",
   "mimetype": "text/x-python",
   "name": "python",
   "nbconvert_exporter": "python",
   "pygments_lexer": "ipython3",
   "version": "3.7.1"
  }
 },
 "nbformat": 4,
 "nbformat_minor": 2
}
